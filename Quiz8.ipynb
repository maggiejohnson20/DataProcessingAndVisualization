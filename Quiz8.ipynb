{
  "nbformat": 4,
  "nbformat_minor": 0,
  "metadata": {
    "colab": {
      "name": "Quiz8.ipynb",
      "provenance": [],
      "authorship_tag": "ABX9TyMgO++BuLGdeOV+5vBcUlGF",
      "include_colab_link": true
    },
    "kernelspec": {
      "name": "python3",
      "display_name": "Python 3"
    },
    "language_info": {
      "name": "python"
    }
  },
  "cells": [
    {
      "cell_type": "markdown",
      "metadata": {
        "id": "view-in-github",
        "colab_type": "text"
      },
      "source": [
        "<a href=\"https://colab.research.google.com/github/maggiejohnson20/DataProcessingAndVisualization/blob/main/Quiz8.ipynb\" target=\"_parent\"><img src=\"https://colab.research.google.com/assets/colab-badge.svg\" alt=\"Open In Colab\"/></a>"
      ]
    },
    {
      "cell_type": "markdown",
      "source": [
        "For this assignment, we are going to be working with HTML. To start, we want to get the import the different libraries that we will need.\n",
        "\n"
      ],
      "metadata": {
        "id": "sFdcww1uJzuJ"
      }
    },
    {
      "cell_type": "code",
      "execution_count": 3,
      "metadata": {
        "id": "DZ5FfO0VJtfE"
      },
      "outputs": [],
      "source": [
        "import requests\n",
        "import pandas as pa\n",
        "from bs4 import BeautifulSoup"
      ]
    },
    {
      "cell_type": "markdown",
      "source": [
        "For this assignment, I'm going with my all-time favorite show, the one that I can rewatch a million times: The Office. "
      ],
      "metadata": {
        "id": "GL5gAqsBLGIN"
      }
    },
    {
      "cell_type": "code",
      "source": [
        "r = requests.get('https://en.wikipedia.org/wiki/The_Office')\n",
        "html_contents = r.text\n",
        "html_soup = BeautifulSoup(html_contents,\"lxml\")"
      ],
      "metadata": {
        "id": "CjUa1CAxLbbo"
      },
      "execution_count": 4,
      "outputs": []
    },
    {
      "cell_type": "markdown",
      "source": [
        "Now since we have the raw data from the Wikipedia page, let's take a closer look at the title to make sure we collected it correctly. "
      ],
      "metadata": {
        "id": "Y8LYzDx0LnS2"
      }
    },
    {
      "cell_type": "code",
      "source": [
        "html_soup.title"
      ],
      "metadata": {
        "colab": {
          "base_uri": "https://localhost:8080/"
        },
        "id": "vmmwJQHYL93L",
        "outputId": "77c8ed58-675d-421d-bd09-dc4fb3f5b545"
      },
      "execution_count": 5,
      "outputs": [
        {
          "output_type": "execute_result",
          "data": {
            "text/plain": [
              "<title>The Office - Wikipedia</title>"
            ]
          },
          "metadata": {},
          "execution_count": 5
        }
      ]
    },
    {
      "cell_type": "markdown",
      "source": [
        "I want to get rid of the \"title\" part..."
      ],
      "metadata": {
        "id": "5Wo8E7SCMV3m"
      }
    },
    {
      "cell_type": "code",
      "source": [
        "html_soup.title.text"
      ],
      "metadata": {
        "colab": {
          "base_uri": "https://localhost:8080/",
          "height": 35
        },
        "id": "6AjRiWQHMfOQ",
        "outputId": "a1ac5982-04d5-4a0c-e563-c0c362d1d9d8"
      },
      "execution_count": 6,
      "outputs": [
        {
          "output_type": "execute_result",
          "data": {
            "application/vnd.google.colaboratory.intrinsic+json": {
              "type": "string"
            },
            "text/plain": [
              "'The Office - Wikipedia'"
            ]
          },
          "metadata": {},
          "execution_count": 6
        }
      ]
    },
    {
      "cell_type": "markdown",
      "source": [
        "Since we've completed the first section of the assignment. Let's now work on grabbing all of the links from the Wikipedia page. \n",
        "\n",
        "The code below is an anchor."
      ],
      "metadata": {
        "id": "xwK6fSiIMpY5"
      }
    },
    {
      "cell_type": "code",
      "source": [
        "html_soup.a"
      ],
      "metadata": {
        "colab": {
          "base_uri": "https://localhost:8080/"
        },
        "id": "5v18rPdQIuRE",
        "outputId": "ea4f27fe-b011-4544-c3d6-4cab9d1f7d61"
      },
      "execution_count": 7,
      "outputs": [
        {
          "output_type": "execute_result",
          "data": {
            "text/plain": [
              "<a id=\"top\"></a>"
            ]
          },
          "metadata": {},
          "execution_count": 7
        }
      ]
    },
    {
      "cell_type": "markdown",
      "source": [
        "Below, we will pull the paragraph."
      ],
      "metadata": {
        "id": "Y7GNx_z6JGsf"
      }
    },
    {
      "cell_type": "code",
      "source": [
        "html_soup.p"
      ],
      "metadata": {
        "colab": {
          "base_uri": "https://localhost:8080/"
        },
        "id": "OmiU0ifHJMtZ",
        "outputId": "bb82b31e-c84e-4e6a-9a6b-699386eb0a47"
      },
      "execution_count": 8,
      "outputs": [
        {
          "output_type": "execute_result",
          "data": {
            "text/plain": [
              "<p class=\"mw-empty-elt\">\n",
              "</p>"
            ]
          },
          "metadata": {},
          "execution_count": 8
        }
      ]
    },
    {
      "cell_type": "markdown",
      "source": [
        "Let's pull a table!"
      ],
      "metadata": {
        "id": "JkOrsvXhJRlM"
      }
    },
    {
      "cell_type": "code",
      "source": [
        "html_soup.table"
      ],
      "metadata": {
        "colab": {
          "base_uri": "https://localhost:8080/"
        },
        "id": "PiI9gb3YJToK",
        "outputId": "199e1da0-e398-46d0-9eb9-b55a6d127f7d"
      },
      "execution_count": 9,
      "outputs": [
        {
          "output_type": "execute_result",
          "data": {
            "text/plain": [
              "<table class=\"box-More_citations_needed plainlinks metadata ambox ambox-content ambox-Refimprove\" role=\"presentation\"><tbody><tr><td class=\"mbox-image\"><div style=\"width:52px\"><a class=\"image\" href=\"/wiki/File:Question_book-new.svg\"><img alt=\"\" data-file-height=\"399\" data-file-width=\"512\" decoding=\"async\" height=\"39\" src=\"//upload.wikimedia.org/wikipedia/en/thumb/9/99/Question_book-new.svg/50px-Question_book-new.svg.png\" srcset=\"//upload.wikimedia.org/wikipedia/en/thumb/9/99/Question_book-new.svg/75px-Question_book-new.svg.png 1.5x, //upload.wikimedia.org/wikipedia/en/thumb/9/99/Question_book-new.svg/100px-Question_book-new.svg.png 2x\" width=\"50\"/></a></div></td><td class=\"mbox-text\"><div class=\"mbox-text-span\">This article <b>needs additional citations for <a href=\"/wiki/Wikipedia:Verifiability\" title=\"Wikipedia:Verifiability\">verification</a></b>.<span class=\"hide-when-compact\"> Please help <a class=\"external text\" href=\"https://en.wikipedia.org/w/index.php?title=The_Office&amp;action=edit\">improve this article</a> by <a href=\"/wiki/Help:Referencing_for_beginners\" title=\"Help:Referencing for beginners\">adding citations to reliable sources</a>. Unsourced material may be challenged and removed.<br/><small><span class=\"plainlinks\"><i>Find sources:</i> <a class=\"external text\" href=\"//www.google.com/search?as_eq=wikipedia&amp;q=%22The+Office%22\" rel=\"nofollow\">\"The Office\"</a> – <a class=\"external text\" href=\"//www.google.com/search?tbm=nws&amp;q=%22The+Office%22+-wikipedia&amp;tbs=ar:1\" rel=\"nofollow\">news</a> <b>·</b> <a class=\"external text\" href=\"//www.google.com/search?&amp;q=%22The+Office%22&amp;tbs=bkt:s&amp;tbm=bks\" rel=\"nofollow\">newspapers</a> <b>·</b> <a class=\"external text\" href=\"//www.google.com/search?tbs=bks:1&amp;q=%22The+Office%22+-wikipedia\" rel=\"nofollow\">books</a> <b>·</b> <a class=\"external text\" href=\"//scholar.google.com/scholar?q=%22The+Office%22\" rel=\"nofollow\">scholar</a> <b>·</b> <a class=\"external text\" href=\"https://www.jstor.org/action/doBasicSearch?Query=%22The+Office%22&amp;acc=on&amp;wc=on\" rel=\"nofollow\">JSTOR</a></span></small></span> <span class=\"date-container\"><i>(<span class=\"date\">April 2018</span>)</i></span><span class=\"hide-when-compact\"><i> (<a href=\"/wiki/Help:Maintenance_template_removal\" title=\"Help:Maintenance template removal\">Learn how and when to remove this template message</a>)</i></span></div></td></tr></tbody></table>"
            ]
          },
          "metadata": {},
          "execution_count": 9
        }
      ]
    },
    {
      "cell_type": "code",
      "source": [
        "html_soup.table.find_all('a')"
      ],
      "metadata": {
        "colab": {
          "base_uri": "https://localhost:8080/"
        },
        "id": "C1c9Y3wVJZlB",
        "outputId": "a32e14dc-f06a-4d62-ad3a-91d3f944b305"
      },
      "execution_count": 11,
      "outputs": [
        {
          "output_type": "execute_result",
          "data": {
            "text/plain": [
              "[<a class=\"image\" href=\"/wiki/File:Question_book-new.svg\"><img alt=\"\" data-file-height=\"399\" data-file-width=\"512\" decoding=\"async\" height=\"39\" src=\"//upload.wikimedia.org/wikipedia/en/thumb/9/99/Question_book-new.svg/50px-Question_book-new.svg.png\" srcset=\"//upload.wikimedia.org/wikipedia/en/thumb/9/99/Question_book-new.svg/75px-Question_book-new.svg.png 1.5x, //upload.wikimedia.org/wikipedia/en/thumb/9/99/Question_book-new.svg/100px-Question_book-new.svg.png 2x\" width=\"50\"/></a>,\n",
              " <a href=\"/wiki/Wikipedia:Verifiability\" title=\"Wikipedia:Verifiability\">verification</a>,\n",
              " <a class=\"external text\" href=\"https://en.wikipedia.org/w/index.php?title=The_Office&amp;action=edit\">improve this article</a>,\n",
              " <a href=\"/wiki/Help:Referencing_for_beginners\" title=\"Help:Referencing for beginners\">adding citations to reliable sources</a>,\n",
              " <a class=\"external text\" href=\"//www.google.com/search?as_eq=wikipedia&amp;q=%22The+Office%22\" rel=\"nofollow\">\"The Office\"</a>,\n",
              " <a class=\"external text\" href=\"//www.google.com/search?tbm=nws&amp;q=%22The+Office%22+-wikipedia&amp;tbs=ar:1\" rel=\"nofollow\">news</a>,\n",
              " <a class=\"external text\" href=\"//www.google.com/search?&amp;q=%22The+Office%22&amp;tbs=bkt:s&amp;tbm=bks\" rel=\"nofollow\">newspapers</a>,\n",
              " <a class=\"external text\" href=\"//www.google.com/search?tbs=bks:1&amp;q=%22The+Office%22+-wikipedia\" rel=\"nofollow\">books</a>,\n",
              " <a class=\"external text\" href=\"//scholar.google.com/scholar?q=%22The+Office%22\" rel=\"nofollow\">scholar</a>,\n",
              " <a class=\"external text\" href=\"https://www.jstor.org/action/doBasicSearch?Query=%22The+Office%22&amp;acc=on&amp;wc=on\" rel=\"nofollow\">JSTOR</a>,\n",
              " <a href=\"/wiki/Help:Maintenance_template_removal\" title=\"Help:Maintenance template removal\">Learn how and when to remove this template message</a>]"
            ]
          },
          "metadata": {},
          "execution_count": 11
        }
      ]
    }
  ]
}