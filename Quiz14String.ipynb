{
  "nbformat": 4,
  "nbformat_minor": 0,
  "metadata": {
    "colab": {
      "name": "Quiz14String.ipynb",
      "provenance": [],
      "authorship_tag": "ABX9TyOCNlCMwXgSthPc9edMz/OW",
      "include_colab_link": true
    },
    "kernelspec": {
      "name": "python3",
      "display_name": "Python 3"
    },
    "language_info": {
      "name": "python"
    }
  },
  "cells": [
    {
      "cell_type": "markdown",
      "metadata": {
        "id": "view-in-github",
        "colab_type": "text"
      },
      "source": [
        "<a href=\"https://colab.research.google.com/github/maggiejohnson20/DataProcessingAndVisualization/blob/main/Quiz14String.ipynb\" target=\"_parent\"><img src=\"https://colab.research.google.com/assets/colab-badge.svg\" alt=\"Open In Colab\"/></a>"
      ]
    },
    {
      "cell_type": "markdown",
      "source": [
        "This quiz is introducing strings in python."
      ],
      "metadata": {
        "id": "wbuChKQ6INKy"
      }
    },
    {
      "cell_type": "markdown",
      "source": [
        "We are supposed to write the happy birthday song as simple as possible with strings."
      ],
      "metadata": {
        "id": "wjhflPwIIh3B"
      }
    },
    {
      "cell_type": "code",
      "execution_count": 9,
      "metadata": {
        "id": "O6lsA8eWIHt2"
      },
      "outputs": [],
      "source": [
        "Happy = 'Happy birthday to you!' + ''"
      ]
    },
    {
      "cell_type": "code",
      "source": [
        "Birthday = 'Happy birthday to you!' + ''"
      ],
      "metadata": {
        "id": "SnX4UKewK1lh"
      },
      "execution_count": 10,
      "outputs": []
    },
    {
      "cell_type": "code",
      "source": [
        "To = 'Happy birthday to Maggie Johnson' + ''"
      ],
      "metadata": {
        "id": "lu4VNh8JK5EW"
      },
      "execution_count": 11,
      "outputs": []
    },
    {
      "cell_type": "code",
      "source": [
        "U = 'Happy birthday to you!' + ''"
      ],
      "metadata": {
        "id": "9f6_DaPlMRsu"
      },
      "execution_count": 12,
      "outputs": []
    },
    {
      "cell_type": "code",
      "source": [
        "print(Happy)\n",
        "print(Birthday)\n",
        "print(To)\n",
        "print(U)\n"
      ],
      "metadata": {
        "colab": {
          "base_uri": "https://localhost:8080/"
        },
        "id": "isDvKskeMZuQ",
        "outputId": "f0c0cbfb-dd1a-4536-b757-eb0509e8d8c5"
      },
      "execution_count": 13,
      "outputs": [
        {
          "output_type": "stream",
          "name": "stdout",
          "text": [
            "Happy birthday to you!\n",
            "Happy birthday to you!\n",
            "Happy birthday to Maggie Johnson\n",
            "Happy birthday to you!\n"
          ]
        }
      ]
    },
    {
      "cell_type": "markdown",
      "source": [
        "That was pretty odd having strings sing me Happy Birthday, but it was easy!"
      ],
      "metadata": {
        "id": "pnIW2V7sNSez"
      }
    }
  ]
}